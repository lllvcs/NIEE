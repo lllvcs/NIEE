{
 "cells": [
  {
   "cell_type": "code",
   "execution_count": null,
   "metadata": {},
   "outputs": [],
   "source": [
    "# -*- coding: utf-8 -*-\n",
    "import numpy as np\n",
    "import pandas as pd"
   ]
  },
  {
   "cell_type": "code",
   "execution_count": null,
   "metadata": {},
   "outputs": [],
   "source": [
    "# Data input\n",
    "# NIEE score matrix and sample annotation\n",
    "NIEE = pd.read_csv(\"\")\n",
    "\n",
    "anno = pd.read_csv(\"\")"
   ]
  },
  {
   "cell_type": "code",
   "execution_count": null,
   "metadata": {},
   "outputs": [],
   "source": [
    "sample_list = anno[anno[\"time\"] != \"Baseline\"][\"sample\"].values"
   ]
  },
  {
   "cell_type": "code",
   "execution_count": null,
   "metadata": {},
   "outputs": [],
   "source": [
    "# Top edges for innitial screening\n",
    "nlargest = 100\n",
    "max_list = []\n",
    "max_menber = pd.DataFrame()"
   ]
  },
  {
   "cell_type": "code",
   "execution_count": null,
   "metadata": {},
   "outputs": [],
   "source": [
    "# Select the TOP edges at the highest scoring moment for each patient\n",
    "for i in sample_list:\n",
    "    max_list = []\n",
    "    for j in i:\n",
    "        max_list.append(np.sum(NIEE[[\"node1\", \"node2\", j]].nlargest(nlargest, j)[j]))\n",
    "    target = i[np.where(max_list == np.max(max_list))[0][0]]\n",
    "    origin_frame = NIEE[[\"node1\", \"node2\", target]].nlargest(nlargest, target)\n",
    "    name = pd.DataFrame(\n",
    "        (origin_frame[\"node1\"] + \",\" + origin_frame[\"node2\"]).values, columns=[target]\n",
    "    )\n",
    "    max_menber = pd.concat([max_menber, name], axis=1)\n",
    "    \"\"\"\n",
    "    # Select the TOP edges at the second highest scoring moment for each patient\n",
    "    target = i[np.where(max_list == (sorted(set(max_list))[-2]))[0][0]]\n",
    "    #print(target)\n",
    "    origin_frame = NIEE[[\"node1\", \"node2\", target]].nlargest(nlargest, target)\n",
    "    name = pd.DataFrame(\n",
    "        (origin_frame[\"node1\"]+\",\"+origin_frame[\"node2\"]).values, columns=[target])\n",
    "    max_menber = pd.concat([max_menber, name], axis=1)\n",
    "    #print(\"\\n\")\n",
    "    \n",
    "    # Select the TOP edges at the third highest scoring moment for each patient\n",
    "    target = i[np.where(max_list == (sorted(set(max_list))[-3]))[0][0]]\n",
    "    origin_frame = NIEE[[\"node1\", \"node2\", target]].nlargest(nlargest, target)\n",
    "    name = pd.DataFrame(\n",
    "        (origin_frame[\"node1\"]+\",\"+origin_frame[\"node2\"]).values, columns=[target])\n",
    "    max_menber = pd.concat([max_menber, name], axis=1)\n",
    "    \"\"\"\n",
    "\n",
    "max_menber_result = pd.value_counts(pd.melt(max_menber)[\"value\"])\n",
    "max_menber_result = pd.DataFrame(max_menber_result)\n",
    "max_menber_result = max_menber_result.reset_index().rename(columns={\"index\": \"node\"})\n",
    "max_menber_result = pd.concat(\n",
    "    [max_menber_result[\"node\"].str.split(\",\", expand=True), max_menber_result[\"value\"]],\n",
    "    axis=1,\n",
    ")\n",
    "max_menber_result.columns = [\"node1\", \"node2\", \"count\"]"
   ]
  },
  {
   "cell_type": "code",
   "execution_count": null,
   "metadata": {},
   "outputs": [],
   "source": [
    "# Reslut output\n",
    "max_menber_result.to_csv(\"\")"
   ]
  }
 ],
 "metadata": {
  "kernelspec": {
   "display_name": "Python 3.10.6 ('base')",
   "language": "python",
   "name": "python3"
  },
  "language_info": {
   "codemirror_mode": {
    "name": "ipython",
    "version": 3
   },
   "file_extension": ".py",
   "mimetype": "text/x-python",
   "name": "python",
   "nbconvert_exporter": "python",
   "pygments_lexer": "ipython3",
   "version": "3.10.6"
  },
  "orig_nbformat": 4,
  "vscode": {
   "interpreter": {
    "hash": "55e31c4e4f96b3c43367ddd46a98c4f8ab367bfa08c9b39ce4151defbbfc00d5"
   }
  }
 },
 "nbformat": 4,
 "nbformat_minor": 2
}
