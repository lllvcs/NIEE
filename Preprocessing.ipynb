{
 "cells": [
  {
   "cell_type": "code",
   "execution_count": null,
   "metadata": {},
   "outputs": [],
   "source": [
    "# -*- coding: utf-8 -*-\n",
    "import numpy as np\n",
    "import pandas as pd"
   ]
  },
  {
   "cell_type": "code",
   "execution_count": null,
   "metadata": {},
   "outputs": [],
   "source": [
    "# Data input\n",
    "# Data from ensembl-biomart contains ensg, ensp and symbol\n",
    "# https://www.ensembl.org/biomart/martview\n",
    "ensp_df = pd.read_csv(\"\")\n",
    "# Expression matrix, rows are genes, columns are samples\n",
    "expression_df = pd.read_csv(\"\", index_col=0)"
   ]
  },
  {
   "cell_type": "code",
   "execution_count": null,
   "metadata": {},
   "outputs": [],
   "source": [
    "# Del the version number of ensg\n",
    "expression_df[\"Ensembl_ID\"] = expression_df[\"Ensembl_ID\"].str.split(\".\").str[0]"
   ]
  },
  {
   "cell_type": "code",
   "execution_count": null,
   "metadata": {},
   "outputs": [],
   "source": [
    "# Dictionary for ensg to ensp\n",
    "# Initial screen for ensp_df\n",
    "\n",
    "ensp_df = ensp_df.dropna()\n",
    "\n",
    "ensp_df = ensp_df.sort_values(by=[\"symbol\"], ascending=True).reset_index(drop=True)"
   ]
  },
  {
   "cell_type": "code",
   "execution_count": null,
   "metadata": {},
   "outputs": [],
   "source": [
    "# Ensg to symbol (optional)\n",
    "# Available symbol list\n",
    "expression_df = expression_df.loc[expression_df[\"Ensembl_ID\"].isin(ensp_df[\"ensg\"])]\n",
    "expression_df = expression_df.reset_index(drop=True)\n",
    "symbol = np.array(expression_df[\"Ensembl_ID\"])\n",
    "for i in expression_df.index:\n",
    "    symbol[i] = ensp_df.loc[ensp_df[\"ensg\"] == expression_df[\"Ensembl_ID\"][i]][\n",
    "        \"symbol\"\n",
    "    ].values[0]\n",
    "\n",
    "expression_df = expression_df.sort_index(ascending=True)\n",
    "expression_df.insert(0, \"symbol\", symbol)\n",
    "expression_df.drop([\"Ensembl_ID\"], axis=1, inplace=True)\n",
    "# Mean value processing for repeated symbols\n",
    "expression_df = expression_df.groupby(\"symbol\").mean()\n",
    "# Drop the genes with more than 10% zero values\n",
    "result = expression_df[\n",
    "    (expression_df == 0).sum(axis=1) < expression_df.shape[1] * (1 - 0.9)\n",
    "]\n",
    "# Output\n",
    "result.to_csv(\"\", index=True)"
   ]
  },
  {
   "cell_type": "code",
   "execution_count": null,
   "metadata": {},
   "outputs": [],
   "source": [
    "# Dictionary for ensg, ensp and symbol\n",
    "# Screen out the needed genes\n",
    "ensp_df = ensp_df.loc[ensp_df[\"symbol\"].isin(result.index)]\n",
    "# New column \"id\" for dictionary\n",
    "ensp_df[\"id\"] = pd.factorize(ensp_df[\"symbol\"])[0]\n",
    "# Output\n",
    "ensp_df.to_csv(\"\", index=False)"
   ]
  }
 ],
 "metadata": {
  "kernelspec": {
   "display_name": "base",
   "language": "python",
   "name": "python3"
  },
  "language_info": {
   "codemirror_mode": {
    "name": "ipython",
    "version": 3
   },
   "file_extension": ".py",
   "mimetype": "text/x-python",
   "name": "python",
   "nbconvert_exporter": "python",
   "pygments_lexer": "ipython3",
   "version": "3.10.10"
  },
  "orig_nbformat": 4
 },
 "nbformat": 4,
 "nbformat_minor": 2
}
