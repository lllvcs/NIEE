{
 "cells": [
  {
   "cell_type": "code",
   "execution_count": 1,
   "metadata": {},
   "outputs": [],
   "source": [
    "import xml.etree.ElementTree as ET\n",
    "import numpy as np\n",
    "import pandas as pd"
   ]
  },
  {
   "cell_type": "code",
   "execution_count": 2,
   "metadata": {},
   "outputs": [],
   "source": [
    "# Function to parse KGML file and create a gene relationship matrix\n",
    "def parse_kgml(kgml_path):\n",
    "    # Parse KGML file\n",
    "    tree = ET.parse(kgml_path)\n",
    "    root = tree.getroot()\n",
    "\n",
    "    # Extract entries with their gene names\n",
    "    entries = {}\n",
    "    genes = {}\n",
    "    for entry in root.findall('entry'):\n",
    "        entry_id = entry.get('id')\n",
    "        entries[entry_id] = entry\n",
    "        if entry.get('type') == 'gene':\n",
    "            gene_ids = entry.get('name').split()\n",
    "            for gene_id in gene_ids:\n",
    "                genes[gene_id] = entry_id  # Maps 'hsa:xxxx' to entry id\n",
    "\n",
    "    # Initialize the relationship matrix with zeros\n",
    "    matrix_size = len(genes)\n",
    "    relation_matrix = np.zeros((matrix_size, matrix_size), dtype=int)\n",
    "\n",
    "    # Create a mapping from gene to index for matrix\n",
    "    gene_to_index = {gene: idx for idx, gene in enumerate(sorted(genes.keys()))}\n",
    "\n",
    "    # Populate the matrix with gene-gene relationships\n",
    "    for relation in root.findall('relation'):\n",
    "        entry1_id, entry2_id = relation.get('entry1'), relation.get('entry2')\n",
    "        entry1, entry2 = entries.get(entry1_id), entries.get(entry2_id)\n",
    "        if entry1 is not None and entry2 is not None:\n",
    "            if entry1.get('type') == 'gene' and entry2.get('type') == 'gene':\n",
    "                for gene1 in entry1.get('name').split():\n",
    "                    for gene2 in entry2.get('name').split():\n",
    "                        index1, index2 = gene_to_index[gene1], gene_to_index[gene2]\n",
    "                        relation_matrix[index1][index2] = 1  # Assuming a directed relation\n",
    "\n",
    "    # Convert the matrix to a DataFrame for better readability\n",
    "    matrix_df = pd.DataFrame(relation_matrix, index=sorted(genes.keys()), columns=sorted(genes.keys()))\n",
    "    return matrix_df"
   ]
  },
  {
   "cell_type": "code",
   "execution_count": 3,
   "metadata": {},
   "outputs": [],
   "source": [
    "# Path to the local KGML file\n",
    "kgml_file_path = 'Pathway.xml'"
   ]
  },
  {
   "cell_type": "code",
   "execution_count": 4,
   "metadata": {},
   "outputs": [],
   "source": [
    "# Parse the KGML file and create the gene relationship matrix\n",
    "gene_relation_matrix_df = parse_kgml(kgml_file_path)"
   ]
  },
  {
   "cell_type": "code",
   "execution_count": 5,
   "metadata": {},
   "outputs": [],
   "source": [
    "# Save the matrix to a CSV file\n",
    "output_csv_path = kgml_file_path+'.gene_relation_network_matrix.csv'\n",
    "gene_relation_matrix_df.to_csv(output_csv_path)"
   ]
  }
 ],
 "metadata": {
  "kernelspec": {
   "display_name": "base",
   "language": "python",
   "name": "python3"
  },
  "language_info": {
   "codemirror_mode": {
    "name": "ipython",
    "version": 3
   },
   "file_extension": ".py",
   "mimetype": "text/x-python",
   "name": "python",
   "nbconvert_exporter": "python",
   "pygments_lexer": "ipython3",
   "version": "3.10.6"
  }
 },
 "nbformat": 4,
 "nbformat_minor": 2
}
