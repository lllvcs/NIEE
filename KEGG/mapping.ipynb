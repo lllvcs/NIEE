{
 "cells": [
  {
   "cell_type": "code",
   "execution_count": null,
   "metadata": {},
   "outputs": [],
   "source": [
    "import pandas as pd\n",
    "import numpy as np"
   ]
  },
  {
   "cell_type": "code",
   "execution_count": null,
   "metadata": {},
   "outputs": [],
   "source": [
    "# Function to load a KEGG to HGNC mapping from a CSV file\n",
    "def load_kegg_to_hgnc_mapping(mapping_csv_path):\n",
    "    mapping_df = pd.read_csv(mapping_csv_path)\n",
    "    # Assuming the csv file has columns 'Symbol' for HGNC and 'Gene_ID' for KEGG ID\n",
    "    kegg_to_hgnc_mapping = {f'hsa:{gene_id}': symbol for symbol, gene_id in zip(mapping_df['Symbol'], mapping_df['Gene_ID'])}\n",
    "    return kegg_to_hgnc_mapping\n",
    "\n",
    "# Function to update the gene matrix with HGNC symbols\n",
    "def update_and_sort_matrix_with_hgnc_symbols(matrix, kegg_to_hgnc_mapping):\n",
    "    # Replace KEGG IDs in the index and columns with HGNC symbols\n",
    "    matrix.index = [kegg_to_hgnc_mapping.get(gene_id, 'unknown') for gene_id in matrix.index]\n",
    "    matrix.columns = [kegg_to_hgnc_mapping.get(gene_id, 'unknown') for gene_id in matrix.columns]\n",
    "    # Sort the index and columns\n",
    "    matrix = matrix.sort_index().sort_index(axis=1)\n",
    "    return matrix"
   ]
  },
  {
   "cell_type": "code",
   "execution_count": null,
   "metadata": {},
   "outputs": [],
   "source": [
    "# Load the KEGG to HGNC mapping\n",
    "mapping_csv_path = 'NCBI_ID-Symbol.csv'  # Replace with your actual file path\n",
    "kegg_to_hgnc_mapping = load_kegg_to_hgnc_mapping(mapping_csv_path)\n"
   ]
  },
  {
   "cell_type": "code",
   "execution_count": null,
   "metadata": {},
   "outputs": [],
   "source": [
    "# Assume 'merged_gene_relation_network_matrix.csv' is the merged matrix file you generated earlier\n",
    "merged_matrix_df = pd.read_csv('merged_gene_relation_network_matrix.csv', index_col=0)\n",
    "\n",
    "# Update the merged matrix with HGNC symbols\n",
    "updated_matrix_df = update_and_sort_matrix_with_hgnc_symbols(merged_matrix_df, kegg_to_hgnc_mapping)\n"
   ]
  },
  {
   "cell_type": "code",
   "execution_count": null,
   "metadata": {},
   "outputs": [],
   "source": [
    "updated_matrix_df"
   ]
  },
  {
   "cell_type": "code",
   "execution_count": null,
   "metadata": {},
   "outputs": [],
   "source": [
    "# Save the updated matrix to CSV with HGNC symbols\n",
    "output_csv_path_with_hgnc = 'updated_gene_relation_network_matrix_with_hgnc.csv'\n",
    "updated_matrix_df.to_csv(output_csv_path_with_hgnc)\n",
    "print(f'The updated gene relation network matrix with HGNC symbols has been saved to {output_csv_path_with_hgnc}')"
   ]
  }
 ],
 "metadata": {
  "kernelspec": {
   "display_name": "base",
   "language": "python",
   "name": "python3"
  },
  "language_info": {
   "codemirror_mode": {
    "name": "ipython",
    "version": 3
   },
   "file_extension": ".py",
   "mimetype": "text/x-python",
   "name": "python",
   "nbconvert_exporter": "python",
   "pygments_lexer": "ipython3",
   "version": "3.10.6"
  }
 },
 "nbformat": 4,
 "nbformat_minor": 2
}
