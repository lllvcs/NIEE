{
 "cells": [
  {
   "cell_type": "code",
   "execution_count": null,
   "metadata": {},
   "outputs": [],
   "source": [
    "import pandas as pd\n",
    "import numpy as np\n",
    "from functools import reduce"
   ]
  },
  {
   "cell_type": "code",
   "execution_count": null,
   "metadata": {},
   "outputs": [],
   "source": [
    "def merge_matrices(matrix_file_paths):\n",
    "    # Empty list to store the individual DataFrames\n",
    "    matrices = []\n",
    "    \n",
    "    # Load each matrix csv file as a DataFrame and append to the list\n",
    "    for file_path in matrix_file_paths:\n",
    "        df = pd.read_csv(file_path, index_col=0)\n",
    "        matrices.append(df)\n",
    "    \n",
    "    # Find the union of all genes across the matrices\n",
    "    all_genes = reduce(np.union1d, [df.index.values for df in matrices])\n",
    "    \n",
    "    # Initialize the merged matrix with zeros, using the combined list of genes\n",
    "    merged_matrix = pd.DataFrame(0, index=all_genes, columns=all_genes)\n",
    "    \n",
    "    # Fill the merged matrix with the relationships from each individual matrix\n",
    "    for df in matrices:\n",
    "        lines, cols = df.shape\n",
    "        # to get positions that are not zero\n",
    "        positions = np.where(df.values != 0)\n",
    "        for i, j in zip(positions[0], positions[1]):\n",
    "            gene1 = df.index[i]\n",
    "            gene2 = df.columns[j]\n",
    "            merged_matrix.at[gene1, gene2] = 1  # you can change logic depending on how you want to merge (e.g sum, max, etc.)\n",
    "    \n",
    "    return merged_matrix"
   ]
  },
  {
   "cell_type": "code",
   "execution_count": null,
   "metadata": {},
   "outputs": [],
   "source": [
    "# List of paths to your gene relation network matrix csv files\n",
    "matrix_file_paths = [\n",
    "    # Add as many paths as required\n",
    "]"
   ]
  },
  {
   "cell_type": "code",
   "execution_count": null,
   "metadata": {},
   "outputs": [],
   "source": [
    "# Merge the matrices\n",
    "merged_matrix_df = merge_matrices(matrix_file_paths)"
   ]
  },
  {
   "cell_type": "code",
   "execution_count": null,
   "metadata": {},
   "outputs": [],
   "source": [
    "np.sum(merged_matrix_df)  # total number of relationships in the merged matrix"
   ]
  },
  {
   "cell_type": "code",
   "execution_count": null,
   "metadata": {},
   "outputs": [],
   "source": [
    "# Save the merged matrix to a CSV file\n",
    "output_csv_path = 'merged_gene_relation_network_matrix.csv'\n",
    "merged_matrix_df.to_csv(output_csv_path)\n",
    "print(f'The merged gene relation network matrix has been saved to {output_csv_path}')"
   ]
  }
 ],
 "metadata": {
  "kernelspec": {
   "display_name": "base",
   "language": "python",
   "name": "python3"
  },
  "language_info": {
   "codemirror_mode": {
    "name": "ipython",
    "version": 3
   },
   "file_extension": ".py",
   "mimetype": "text/x-python",
   "name": "python",
   "nbconvert_exporter": "python",
   "pygments_lexer": "ipython3",
   "version": "3.10.6"
  }
 },
 "nbformat": 4,
 "nbformat_minor": 2
}
